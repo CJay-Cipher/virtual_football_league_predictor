{
 "cells": [
  {
   "cell_type": "code",
   "execution_count": 1,
   "metadata": {},
   "outputs": [],
   "source": [
    "import pandas as pd\n",
    "import numpy as np"
   ]
  },
  {
   "cell_type": "code",
   "execution_count": 998,
   "metadata": {},
   "outputs": [
    {
     "data": {
      "text/plain": [
       "(1588, 26)"
      ]
     },
     "execution_count": 998,
     "metadata": {},
     "output_type": "execute_result"
    }
   ],
   "source": [
    "df = pd.read_csv(\"colour_records/rec_7.csv\")\n",
    "df.shape"
   ]
  },
  {
   "cell_type": "code",
   "execution_count": 999,
   "metadata": {},
   "outputs": [
    {
     "data": {
      "text/html": [
       "<div>\n",
       "<style scoped>\n",
       "    .dataframe tbody tr th:only-of-type {\n",
       "        vertical-align: middle;\n",
       "    }\n",
       "\n",
       "    .dataframe tbody tr th {\n",
       "        vertical-align: top;\n",
       "    }\n",
       "\n",
       "    .dataframe thead th {\n",
       "        text-align: right;\n",
       "    }\n",
       "</style>\n",
       "<table border=\"1\" class=\"dataframe\">\n",
       "  <thead>\n",
       "    <tr style=\"text-align: right;\">\n",
       "      <th></th>\n",
       "      <th>b1</th>\n",
       "      <th>b2</th>\n",
       "      <th>b3</th>\n",
       "      <th>b4</th>\n",
       "      <th>b5</th>\n",
       "      <th>b6</th>\n",
       "      <th>green_0</th>\n",
       "      <th>green_2p</th>\n",
       "      <th>green_3p</th>\n",
       "      <th>green_4p</th>\n",
       "      <th>...</th>\n",
       "      <th>red_5p</th>\n",
       "      <th>red_6</th>\n",
       "      <th>blue_0</th>\n",
       "      <th>blue_2p</th>\n",
       "      <th>blue_3p</th>\n",
       "      <th>blue_4p</th>\n",
       "      <th>blue_5p</th>\n",
       "      <th>blue_6</th>\n",
       "      <th>colours</th>\n",
       "      <th>total</th>\n",
       "    </tr>\n",
       "  </thead>\n",
       "  <tbody>\n",
       "  </tbody>\n",
       "</table>\n",
       "<p>0 rows × 26 columns</p>\n",
       "</div>"
      ],
      "text/plain": [
       "Empty DataFrame\n",
       "Columns: [b1, b2, b3, b4, b5, b6, green_0, green_2p, green_3p, green_4p, green_5p, green_6, red_0, red_2p, red_3p, red_4p, red_5p, red_6, blue_0, blue_2p, blue_3p, blue_4p, blue_5p, blue_6, colours, total]\n",
       "Index: []\n",
       "\n",
       "[0 rows x 26 columns]"
      ]
     },
     "execution_count": 999,
     "metadata": {},
     "output_type": "execute_result"
    }
   ],
   "source": [
    "df[df.duplicated()]"
   ]
  },
  {
   "cell_type": "code",
   "execution_count": 1000,
   "metadata": {},
   "outputs": [
    {
     "name": "stdout",
     "output_type": "stream",
     "text": [
      "Total Wins - 399\n"
     ]
    },
    {
     "data": {
      "text/html": [
       "<div>\n",
       "<style scoped>\n",
       "    .dataframe tbody tr th:only-of-type {\n",
       "        vertical-align: middle;\n",
       "    }\n",
       "\n",
       "    .dataframe tbody tr th {\n",
       "        vertical-align: top;\n",
       "    }\n",
       "\n",
       "    .dataframe thead th {\n",
       "        text-align: right;\n",
       "    }\n",
       "</style>\n",
       "<table border=\"1\" class=\"dataframe\">\n",
       "  <thead>\n",
       "    <tr style=\"text-align: right;\">\n",
       "      <th></th>\n",
       "      <th>green_4p</th>\n",
       "      <th>red_4p</th>\n",
       "      <th>blue_4p</th>\n",
       "    </tr>\n",
       "  </thead>\n",
       "  <tbody>\n",
       "    <tr>\n",
       "      <th>4</th>\n",
       "      <td>20</td>\n",
       "      <td>0</td>\n",
       "      <td>27</td>\n",
       "    </tr>\n",
       "    <tr>\n",
       "      <th>6</th>\n",
       "      <td>22</td>\n",
       "      <td>0</td>\n",
       "      <td>29</td>\n",
       "    </tr>\n",
       "    <tr>\n",
       "      <th>15</th>\n",
       "      <td>31</td>\n",
       "      <td>9</td>\n",
       "      <td>0</td>\n",
       "    </tr>\n",
       "    <tr>\n",
       "      <th>18</th>\n",
       "      <td>34</td>\n",
       "      <td>12</td>\n",
       "      <td>0</td>\n",
       "    </tr>\n",
       "    <tr>\n",
       "      <th>21</th>\n",
       "      <td>37</td>\n",
       "      <td>15</td>\n",
       "      <td>0</td>\n",
       "    </tr>\n",
       "    <tr>\n",
       "      <th>...</th>\n",
       "      <td>...</td>\n",
       "      <td>...</td>\n",
       "      <td>...</td>\n",
       "    </tr>\n",
       "    <tr>\n",
       "      <th>1569</th>\n",
       "      <td>1</td>\n",
       "      <td>17</td>\n",
       "      <td>0</td>\n",
       "    </tr>\n",
       "    <tr>\n",
       "      <th>1570</th>\n",
       "      <td>2</td>\n",
       "      <td>0</td>\n",
       "      <td>1</td>\n",
       "    </tr>\n",
       "    <tr>\n",
       "      <th>1574</th>\n",
       "      <td>0</td>\n",
       "      <td>4</td>\n",
       "      <td>5</td>\n",
       "    </tr>\n",
       "    <tr>\n",
       "      <th>1584</th>\n",
       "      <td>10</td>\n",
       "      <td>14</td>\n",
       "      <td>0</td>\n",
       "    </tr>\n",
       "    <tr>\n",
       "      <th>1586</th>\n",
       "      <td>0</td>\n",
       "      <td>16</td>\n",
       "      <td>2</td>\n",
       "    </tr>\n",
       "  </tbody>\n",
       "</table>\n",
       "<p>399 rows × 3 columns</p>\n",
       "</div>"
      ],
      "text/plain": [
       "      green_4p  red_4p  blue_4p\n",
       "4           20       0       27\n",
       "6           22       0       29\n",
       "15          31       9        0\n",
       "18          34      12        0\n",
       "21          37      15        0\n",
       "...        ...     ...      ...\n",
       "1569         1      17        0\n",
       "1570         2       0        1\n",
       "1574         0       4        5\n",
       "1584        10      14        0\n",
       "1586         0      16        2\n",
       "\n",
       "[399 rows x 3 columns]"
      ]
     },
     "execution_count": 1000,
     "metadata": {},
     "output_type": "execute_result"
    }
   ],
   "source": [
    "\n",
    "new = df[[\"green_4p\", \"red_4p\", \"blue_4p\"]]\n",
    "vals = []\n",
    "num = 0\n",
    "\n",
    "check_1 = False\n",
    "check_2 = False\n",
    "check_3 = False\n",
    "\n",
    "counter_1 = 0\n",
    "counter_2 = 0\n",
    "counter_3 = 0\n",
    "\n",
    "count_list_1 = []\n",
    "count_list_2 = []\n",
    "count_list_3 = []\n",
    "\n",
    "for index, row in new.iterrows():\n",
    "    counter_1 += 1\n",
    "    if (row == 0).any():\n",
    "        vals.append(index)\n",
    "        count_list_1.append(counter_1 + num)\n",
    "        counter_1 = 0\n",
    "    # if check_3 == True and count_list_2[-1] > num:\n",
    "    #     counter_3 += 1\n",
    "    #     if (row == 0).any():\n",
    "    #         count_list_3.append(counter_3)\n",
    "    #         check_3 = False\n",
    "    #         counter_3 = 0\n",
    "    # else:\n",
    "    #     check_3 = False\n",
    "    #     counter_3 = 0\n",
    "\n",
    "    # if check_3 == True:\n",
    "    #     counter_3 += 1\n",
    "    #     if (row == 0).any():\n",
    "    #         count_list_3.append(counter_3)\n",
    "    #         check_3 = False\n",
    "    #         counter_3 = 0\n",
    "\n",
    "    # if check_2 == True:\n",
    "    #     counter_2 += 1\n",
    "    #     if (row == 0).any():\n",
    "    #         count_list_2.append(counter_2)\n",
    "    #         check_3 = True\n",
    "    #         check_2 = False\n",
    "    #         counter_2 = 0\n",
    "\n",
    "    # if check_1 == True:\n",
    "    #     counter_1 += 1\n",
    "    #     if (row == 0).any():\n",
    "    #         count_list_1.append(counter_1 + num)\n",
    "    #         check_2 = True\n",
    "    #         check_1 = False\n",
    "    #         counter_1 = 0\n",
    "\n",
    "    # if (row >= num).all() and (row == num).any() and all(not var for var in [check_1]):\n",
    "    # # if (row >= num).all() and (row == num).any():\n",
    "    #     check_1 = True\n",
    "    #     vals.append(index)\n",
    "\n",
    "t_wins = new.iloc[vals]\n",
    "print(\"Total Wins -\", len(t_wins))\n",
    "t_wins"
   ]
  },
  {
   "cell_type": "code",
   "execution_count": 1001,
   "metadata": {},
   "outputs": [],
   "source": [
    "# t_wins[0:50]"
   ]
  },
  {
   "cell_type": "code",
   "execution_count": 1002,
   "metadata": {},
   "outputs": [
    {
     "name": "stdout",
     "output_type": "stream",
     "text": [
      "Martingale = [5, 2, 9, 3, 3, 5, 1, 4, 4, 1, 3, 3, 2, 2, 1, 1, 4, 7, 1, 4, 2, 3, 1, 3, 4, 9, 3, 1, 1, 3, 2, 8, 1, 3, 12, 16, 1, 4, 1, 3, 4, 2, 1, 1, 9, 1, 6, 1, 1, 2, 1, 6, 17, 4, 5, 2, 2, 1, 1, 1, 4, 3, 3, 7, 2, 7, 2, 5, 3, 1, 1, 1, 3, 2, 1, 5, 7, 8, 2, 4, 5, 6, 5, 6, 1, 4, 6, 1, 3, 1, 12, 6, 2, 16, 3, 2, 6, 1, 4, 2, 3, 2, 1, 1, 6, 2, 4, 4, 2, 2, 5, 1, 9, 1, 5, 2, 2, 2, 1, 1, 3, 2, 2, 1, 5, 1, 1, 1, 2, 1, 1, 5, 2, 5, 10, 4, 6, 5, 4, 1, 4, 4, 9, 2, 1, 2, 2, 13, 5, 2, 2, 1, 7, 6, 1, 5, 7, 14, 1, 1, 3, 1, 4, 16, 2, 2, 3, 1, 2, 2, 3, 8, 5, 2, 3, 3, 3, 1, 1, 1, 6, 7, 10, 1, 1, 2, 1, 2, 3, 1, 1, 1, 8, 5, 5, 2, 5, 1, 10, 1, 2, 12, 10, 4, 11, 2, 1, 6, 2, 2, 5, 3, 4, 6, 11, 5, 3, 1, 2, 2, 2, 6, 1, 2, 3, 8, 4, 1, 6, 12, 7, 17, 1, 2, 4, 6, 7, 5, 5, 1, 1, 7, 1, 6, 8, 3, 2, 5, 3, 6, 2, 2, 2, 6, 5, 1, 5, 6, 3, 3, 9, 1, 1, 4, 4, 2, 8, 9, 1, 2, 8, 7, 5, 4, 15, 1, 4, 16, 1, 2, 3, 2, 9, 3, 1, 2, 10, 27, 5, 10, 1, 3, 5, 3, 4, 1, 4, 6, 1, 2, 2, 2, 7, 5, 1, 2, 1, 3, 1, 1, 7, 6, 4, 1, 3, 14, 1, 2, 1, 1, 6, 5, 11, 5, 2, 4, 1, 3, 1, 6, 5, 8, 1, 2, 1, 5, 4, 2, 4, 7, 3, 4, 2, 2, 1, 2, 6, 5, 1, 1, 2, 3, 1, 7, 9, 1, 1, 2, 4, 1, 3, 12, 4, 8, 5, 6, 7, 1, 2, 1, 5, 6, 8, 3, 4, 3, 2, 2, 5, 7, 5, 24, 2, 1, 1, 1, 6, 3, 3, 1, 6, 10, 3, 3, 1, 1, 4, 10, 2]\n",
      "Max 1 = 27 [27, 24, 17, 17, 16, 16, 16, 16, 15, 14, 14, 13, 12, 12, 12, 12, 12, 11, 11, 11, 10, 10, 10, 10, 10, 10, 10, 10, 9, 9, 9, 9, 9, 9, 9, 9, 9, 8, 8, 8, 8, 8, 8, 8, 8, 8, 8, 8, 7, 7, 7, 7, 7, 7, 7, 7, 7, 7, 7, 7, 7, 7, 7, 7, 7, 6, 6, 6, 6, 6, 6, 6, 6, 6, 6, 6, 6, 6, 6, 6, 6, 6, 6, 6, 6, 6, 6, 6, 6, 6, 6, 6, 6, 6, 5, 5, 5, 5, 5, 5, 5, 5, 5, 5, 5, 5, 5, 5, 5, 5, 5, 5, 5, 5, 5, 5, 5, 5, 5, 5, 5, 5, 5, 5, 5, 5, 5, 5, 5, 5, 5, 5, 5, 4, 4, 4, 4, 4, 4, 4, 4, 4, 4, 4, 4, 4, 4, 4, 4, 4, 4, 4, 4, 4, 4, 4, 4, 4, 4, 4, 4, 4, 4, 4, 4, 4, 4, 4, 4, 4, 4, 3, 3, 3, 3, 3, 3, 3, 3, 3, 3, 3, 3, 3, 3, 3, 3, 3, 3, 3, 3, 3, 3, 3, 3, 3, 3, 3, 3, 3, 3, 3, 3, 3, 3, 3, 3, 3, 3, 3, 3, 3, 3, 3, 3, 3, 3, 3, 3, 2, 2, 2, 2, 2, 2, 2, 2, 2, 2, 2, 2, 2, 2, 2, 2, 2, 2, 2, 2, 2, 2, 2, 2, 2, 2, 2, 2, 2, 2, 2, 2, 2, 2, 2, 2, 2, 2, 2, 2, 2, 2, 2, 2, 2, 2, 2, 2, 2, 2, 2, 2, 2, 2, 2, 2, 2, 2, 2, 2, 2, 2, 2, 2, 2, 2, 2, 2, 2, 2, 2, 2, 2, 2, 2, 2, 1, 1, 1, 1, 1, 1, 1, 1, 1, 1, 1, 1, 1, 1, 1, 1, 1, 1, 1, 1, 1, 1, 1, 1, 1, 1, 1, 1, 1, 1, 1, 1, 1, 1, 1, 1, 1, 1, 1, 1, 1, 1, 1, 1, 1, 1, 1, 1, 1, 1, 1, 1, 1, 1, 1, 1, 1, 1, 1, 1, 1, 1, 1, 1, 1, 1, 1, 1, 1, 1, 1, 1, 1, 1, 1, 1, 1, 1, 1, 1, 1, 1, 1, 1, 1, 1, 1, 1, 1, 1, 1, 1, 1, 1, 1, 1, 1, 1, 1, 1, 1, 1, 1, 1]\n",
      "Max position 287\n",
      "all game count : 1587\n",
      "\n",
      "Total Played : 399\n",
      "Total won : 397\n",
      "Loss Count - 2\n",
      "\n",
      "Profit/Loss = 131000\n"
     ]
    }
   ],
   "source": [
    "# sum_check = []\n",
    "# print(\"Max 1 =\", max(count_list_1), sorted(count_list_1, reverse=True))\n",
    "# print(\"Max 2 =\", max(count_list_2), sorted(count_list_2, reverse=True))\n",
    "# print(\"Max 3 =\", max(count_list_3), sorted(count_list_3, reverse=True))\n",
    "\n",
    "# for x, y, z in zip(count_list_1, count_list_2, count_list_3):\n",
    "#     sum_check.append(x + y + z)\n",
    "#     print(f\"{x} - {y} - {z}\")\n",
    "# print(\"all game count :\", sum(sum_check))\n",
    "    \n",
    "# win_list = []\n",
    "# for v in sorted(count_list_3):\n",
    "#     if v <= 7:\n",
    "#         win_list.append(v)\n",
    "# print(\"Total Played :\", len(count_list_3))\n",
    "# print(\"Total won :\", len(win_list))\n",
    "\n",
    "# --------------------------------------------------------------------------------\n",
    "\n",
    "# sum_check = []\n",
    "# print(\"Max 1 =\", max(count_list_1), sorted(count_list_1, reverse=True))\n",
    "# print(\"Max 2 =\", max(count_list_2), sorted(count_list_2, reverse=True))\n",
    "# # print(\"Max 3 =\", max(count_list_3), sorted(count_list_3, reverse=True))\n",
    "\n",
    "# for x, y in zip(count_list_1, count_list_2):\n",
    "#     sum_check.append(x + y)\n",
    "#     print(f\"{x} - {y}\")\n",
    "# print(\"all game count :\", sum(sum_check))\n",
    "    \n",
    "# win_list = []\n",
    "# for v in sorted(count_list_2):\n",
    "#     if v <= 5:\n",
    "#         win_list.append(v)\n",
    "# print(\"Total Played :\", len(count_list_2))\n",
    "# print(\"Total won :\", len(win_list))\n",
    "\n",
    "# --------------------------------------------------------------------------------\n",
    "print(\"Martingale =\", count_list_1)\n",
    "print(\"Max 1 =\", max(count_list_1), sorted(count_list_1, reverse=True))\n",
    "print(\"Max position\", count_list_1.index(max(count_list_1)))\n",
    "print(\"all game count :\", sum(count_list_1))\n",
    "    \n",
    "win_list = []\n",
    "for v in sorted(count_list_1):\n",
    "    if v <= 17:\n",
    "        win_list.append(v)\n",
    "print(\"\\nTotal Played :\", len(count_list_1))\n",
    "print(\"Total won :\", len(win_list))\n",
    "# --------------------------------------------------------------------------------\n",
    "\n",
    "t_profit = 1000\n",
    "t_loss = 133000\n",
    "profit = (len(win_list) * t_profit) - ((len(count_list_1) - len(win_list)) * t_loss)\n",
    "# profit = (len(t_wins) * t_profit) - (len(t_lost) * t_loss)\n",
    "\n",
    "print(\"Loss Count -\", len(count_list_1) - len(win_list))\n",
    "print(\"\\nProfit/Loss =\", profit)"
   ]
  },
  {
   "cell_type": "markdown",
   "metadata": {},
   "source": [
    "## Trading Strategy\n",
    "- start stake = 3rd (after 2 wins)\n",
    "- martingale wait space = 4\n",
    "- martingale stake step = 7\n",
    "- single target percentage = 1%\n",
    "- martingale loss percentage = 6.5%"
   ]
  },
  {
   "cell_type": "code",
   "execution_count": 913,
   "metadata": {},
   "outputs": [],
   "source": [
    "# temp = []\n",
    "# num = 17\n",
    "# for index, row in new.iterrows():\n",
    "#     if (row >= num).all() and (row == num).any():\n",
    "#         temp.append(index)\n",
    "\n",
    "# t_lost = new.iloc[temp]\n",
    "# print(\"Total lost -\", len(t_lost))\n",
    "# t_lost"
   ]
  },
  {
   "cell_type": "code",
   "execution_count": 847,
   "metadata": {},
   "outputs": [
    {
     "data": {
      "text/html": [
       "<div>\n",
       "<style scoped>\n",
       "    .dataframe tbody tr th:only-of-type {\n",
       "        vertical-align: middle;\n",
       "    }\n",
       "\n",
       "    .dataframe tbody tr th {\n",
       "        vertical-align: top;\n",
       "    }\n",
       "\n",
       "    .dataframe thead th {\n",
       "        text-align: right;\n",
       "    }\n",
       "</style>\n",
       "<table border=\"1\" class=\"dataframe\">\n",
       "  <thead>\n",
       "    <tr style=\"text-align: right;\">\n",
       "      <th></th>\n",
       "      <th>green_4p</th>\n",
       "      <th>red_4p</th>\n",
       "      <th>blue_4p</th>\n",
       "    </tr>\n",
       "  </thead>\n",
       "  <tbody>\n",
       "  </tbody>\n",
       "</table>\n",
       "</div>"
      ],
      "text/plain": [
       "Empty DataFrame\n",
       "Columns: [green_4p, red_4p, blue_4p]\n",
       "Index: []"
      ]
     },
     "execution_count": 847,
     "metadata": {},
     "output_type": "execute_result"
    }
   ],
   "source": [
    "new[50:10]"
   ]
  },
  {
   "cell_type": "code",
   "execution_count": 818,
   "metadata": {},
   "outputs": [
    {
     "name": "stdout",
     "output_type": "stream",
     "text": [
      "17\n",
      "17\n",
      "13\n"
     ]
    }
   ],
   "source": [
    "val = 3\n",
    "\n",
    "print(df[f\"green_{val}p\"].max())\n",
    "print(df[f\"red_{val}p\"].max())\n",
    "print(df[f\"blue_{val}p\"].max())"
   ]
  },
  {
   "cell_type": "code",
   "execution_count": null,
   "metadata": {},
   "outputs": [],
   "source": []
  },
  {
   "cell_type": "code",
   "execution_count": null,
   "metadata": {},
   "outputs": [],
   "source": []
  }
 ],
 "metadata": {
  "kernelspec": {
   "display_name": "Python 3",
   "language": "python",
   "name": "python3"
  },
  "language_info": {
   "codemirror_mode": {
    "name": "ipython",
    "version": 3
   },
   "file_extension": ".py",
   "mimetype": "text/x-python",
   "name": "python",
   "nbconvert_exporter": "python",
   "pygments_lexer": "ipython3",
   "version": "3.11.2"
  },
  "orig_nbformat": 4
 },
 "nbformat": 4,
 "nbformat_minor": 2
}
