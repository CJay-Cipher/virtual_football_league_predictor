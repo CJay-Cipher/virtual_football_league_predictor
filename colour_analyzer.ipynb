{
 "cells": [
  {
   "cell_type": "code",
   "execution_count": 1,
   "metadata": {},
   "outputs": [],
   "source": [
    "import pandas as pd\n",
    "import numpy as np"
   ]
  },
  {
   "cell_type": "code",
   "execution_count": 553,
   "metadata": {},
   "outputs": [
    {
     "data": {
      "text/plain": [
       "(177, 26)"
      ]
     },
     "execution_count": 553,
     "metadata": {},
     "output_type": "execute_result"
    }
   ],
   "source": [
    "df = pd.read_csv(\"colour_records/rec_6.csv\")\n",
    "df.shape"
   ]
  },
  {
   "cell_type": "code",
   "execution_count": 545,
   "metadata": {},
   "outputs": [
    {
     "data": {
      "text/html": [
       "<div>\n",
       "<style scoped>\n",
       "    .dataframe tbody tr th:only-of-type {\n",
       "        vertical-align: middle;\n",
       "    }\n",
       "\n",
       "    .dataframe tbody tr th {\n",
       "        vertical-align: top;\n",
       "    }\n",
       "\n",
       "    .dataframe thead th {\n",
       "        text-align: right;\n",
       "    }\n",
       "</style>\n",
       "<table border=\"1\" class=\"dataframe\">\n",
       "  <thead>\n",
       "    <tr style=\"text-align: right;\">\n",
       "      <th></th>\n",
       "      <th>b1</th>\n",
       "      <th>b2</th>\n",
       "      <th>b3</th>\n",
       "      <th>b4</th>\n",
       "      <th>b5</th>\n",
       "      <th>b6</th>\n",
       "      <th>green_0</th>\n",
       "      <th>green_2p</th>\n",
       "      <th>green_3p</th>\n",
       "      <th>green_4p</th>\n",
       "      <th>...</th>\n",
       "      <th>red_5p</th>\n",
       "      <th>red_6</th>\n",
       "      <th>blue_0</th>\n",
       "      <th>blue_2p</th>\n",
       "      <th>blue_3p</th>\n",
       "      <th>blue_4p</th>\n",
       "      <th>blue_5p</th>\n",
       "      <th>blue_6</th>\n",
       "      <th>colours</th>\n",
       "      <th>total</th>\n",
       "    </tr>\n",
       "  </thead>\n",
       "  <tbody>\n",
       "    <tr>\n",
       "      <th>176</th>\n",
       "      <td>46</td>\n",
       "      <td>30</td>\n",
       "      <td>10</td>\n",
       "      <td>28</td>\n",
       "      <td>9</td>\n",
       "      <td>15</td>\n",
       "      <td>33</td>\n",
       "      <td>0</td>\n",
       "      <td>0</td>\n",
       "      <td>1</td>\n",
       "      <td>...</td>\n",
       "      <td>52</td>\n",
       "      <td>1463</td>\n",
       "      <td>0</td>\n",
       "      <td>1</td>\n",
       "      <td>7</td>\n",
       "      <td>14</td>\n",
       "      <td>100</td>\n",
       "      <td>682</td>\n",
       "      <td>330</td>\n",
       "      <td>138</td>\n",
       "    </tr>\n",
       "  </tbody>\n",
       "</table>\n",
       "<p>1 rows × 26 columns</p>\n",
       "</div>"
      ],
      "text/plain": [
       "     b1  b2  b3  b4  b5  b6  green_0  green_2p  green_3p  green_4p  ...  \\\n",
       "176  46  30  10  28   9  15       33         0         0         1  ...   \n",
       "\n",
       "     red_5p  red_6  blue_0  blue_2p  blue_3p  blue_4p  blue_5p  blue_6  \\\n",
       "176      52   1463       0        1        7       14      100     682   \n",
       "\n",
       "     colours  total  \n",
       "176      330    138  \n",
       "\n",
       "[1 rows x 26 columns]"
      ]
     },
     "execution_count": 545,
     "metadata": {},
     "output_type": "execute_result"
    }
   ],
   "source": [
    "df[df.duplicated()]"
   ]
  },
  {
   "cell_type": "code",
   "execution_count": 546,
   "metadata": {},
   "outputs": [
    {
     "name": "stdout",
     "output_type": "stream",
     "text": [
      "Total Wins - 9\n"
     ]
    },
    {
     "data": {
      "text/html": [
       "<div>\n",
       "<style scoped>\n",
       "    .dataframe tbody tr th:only-of-type {\n",
       "        vertical-align: middle;\n",
       "    }\n",
       "\n",
       "    .dataframe tbody tr th {\n",
       "        vertical-align: top;\n",
       "    }\n",
       "\n",
       "    .dataframe thead th {\n",
       "        text-align: right;\n",
       "    }\n",
       "</style>\n",
       "<table border=\"1\" class=\"dataframe\">\n",
       "  <thead>\n",
       "    <tr style=\"text-align: right;\">\n",
       "      <th></th>\n",
       "      <th>green_4p</th>\n",
       "      <th>red_4p</th>\n",
       "      <th>blue_4p</th>\n",
       "    </tr>\n",
       "  </thead>\n",
       "  <tbody>\n",
       "    <tr>\n",
       "      <th>0</th>\n",
       "      <td>42</td>\n",
       "      <td>16</td>\n",
       "      <td>4</td>\n",
       "    </tr>\n",
       "    <tr>\n",
       "      <th>20</th>\n",
       "      <td>11</td>\n",
       "      <td>17</td>\n",
       "      <td>4</td>\n",
       "    </tr>\n",
       "    <tr>\n",
       "      <th>39</th>\n",
       "      <td>5</td>\n",
       "      <td>36</td>\n",
       "      <td>4</td>\n",
       "    </tr>\n",
       "    <tr>\n",
       "      <th>55</th>\n",
       "      <td>21</td>\n",
       "      <td>4</td>\n",
       "      <td>7</td>\n",
       "    </tr>\n",
       "    <tr>\n",
       "      <th>81</th>\n",
       "      <td>4</td>\n",
       "      <td>17</td>\n",
       "      <td>33</td>\n",
       "    </tr>\n",
       "    <tr>\n",
       "      <th>101</th>\n",
       "      <td>11</td>\n",
       "      <td>10</td>\n",
       "      <td>4</td>\n",
       "    </tr>\n",
       "    <tr>\n",
       "      <th>112</th>\n",
       "      <td>22</td>\n",
       "      <td>4</td>\n",
       "      <td>15</td>\n",
       "    </tr>\n",
       "    <tr>\n",
       "      <th>146</th>\n",
       "      <td>12</td>\n",
       "      <td>8</td>\n",
       "      <td>4</td>\n",
       "    </tr>\n",
       "    <tr>\n",
       "      <th>165</th>\n",
       "      <td>9</td>\n",
       "      <td>27</td>\n",
       "      <td>4</td>\n",
       "    </tr>\n",
       "  </tbody>\n",
       "</table>\n",
       "</div>"
      ],
      "text/plain": [
       "     green_4p  red_4p  blue_4p\n",
       "0          42      16        4\n",
       "20         11      17        4\n",
       "39          5      36        4\n",
       "55         21       4        7\n",
       "81          4      17       33\n",
       "101        11      10        4\n",
       "112        22       4       15\n",
       "146        12       8        4\n",
       "165         9      27        4"
      ]
     },
     "execution_count": 546,
     "metadata": {},
     "output_type": "execute_result"
    }
   ],
   "source": [
    "\n",
    "new = df[[\"green_4p\", \"red_4p\", \"blue_4p\"]]\n",
    "vals = []\n",
    "num = 4\n",
    "\n",
    "check_1 = False\n",
    "check_2 = False\n",
    "check_3 = False\n",
    "\n",
    "counter_1 = 0\n",
    "counter_2 = 0\n",
    "counter_3 = 0\n",
    "\n",
    "count_list_1 = []\n",
    "count_list_2 = []\n",
    "count_list_3 = []\n",
    "\n",
    "for index, row in new.iterrows():\n",
    "    if check_3 == True and count_list_2[-1] > num:\n",
    "        counter_3 += 1\n",
    "        if (row == 0).any():\n",
    "            count_list_3.append(counter_3)\n",
    "            check_3 = False\n",
    "            counter_3 = 0\n",
    "    else:\n",
    "        check_3 = False\n",
    "        counter_3 = 0\n",
    "\n",
    "    # if check_3 == True:\n",
    "    #     counter_3 += 1\n",
    "    #     if (row == 0).any():\n",
    "    #         count_list_3.append(counter_3)\n",
    "    #         check_3 = False\n",
    "    #         counter_3 = 0\n",
    "\n",
    "    if check_2 == True:\n",
    "        counter_2 += 1\n",
    "        if (row == 0).any():\n",
    "            count_list_2.append(counter_2)\n",
    "            check_3 = True\n",
    "            check_2 = False\n",
    "            counter_2 = 0\n",
    "\n",
    "    if check_1 == True:\n",
    "        counter_1 += 1\n",
    "        if (row == 0).any():\n",
    "            count_list_1.append(counter_1 + num)\n",
    "            check_2 = True\n",
    "            check_1 = False\n",
    "            counter_1 = 0\n",
    "\n",
    "    if (row >= num).all() and (row == num).any() and all(not var for var in [check_1, check_2, check_3]):\n",
    "    # if (row >= num).all() and (row == num).any():\n",
    "        check_1 = True\n",
    "        vals.append(index)\n",
    "\n",
    "t_wins = new.iloc[vals]\n",
    "print(\"Total Wins -\", len(t_wins))\n",
    "t_wins"
   ]
  },
  {
   "cell_type": "code",
   "execution_count": 547,
   "metadata": {},
   "outputs": [
    {
     "name": "stdout",
     "output_type": "stream",
     "text": [
      "Max 1 = 13 [13, 10, 9, 8, 8, 7, 6, 5, 5]\n",
      "Max 2 = 8 [8, 8, 6, 5, 4, 3, 1, 1, 1]\n",
      "Max 3 = 13 [13, 3, 3, 2]\n",
      "7 - 6 - 3\n",
      "8 - 8 - 2\n",
      "5 - 8 - 3\n",
      "8 - 5 - 13\n",
      "Total Played : 4\n",
      "Total won : 3\n"
     ]
    }
   ],
   "source": [
    "# print(count_list_1)\n",
    "# print(count_list_2)\n",
    "# print(count_list_3)\n",
    "\n",
    "print(\"Max 1 =\", max(count_list_1), sorted(count_list_1, reverse=True))\n",
    "print(\"Max 2 =\", max(count_list_2), sorted(count_list_2, reverse=True))\n",
    "print(\"Max 3 =\", max(count_list_3), sorted(count_list_3, reverse=True))\n",
    "\n",
    "for x, y, z in zip(count_list_1, count_list_2, count_list_3):\n",
    "    print(f\"{x} - {y} - {z}\")\n",
    "    \n",
    "win_list = []\n",
    "for v in sorted(count_list_3):\n",
    "    if v <= 7:\n",
    "        win_list.append(v)\n",
    "print(\"Total Played :\", len(count_list_3))\n",
    "print(\"Total won :\", len(win_list))"
   ]
  },
  {
   "cell_type": "code",
   "execution_count": 548,
   "metadata": {},
   "outputs": [
    {
     "name": "stdout",
     "output_type": "stream",
     "text": [
      "Loss Count - 1\n",
      "Win Count - 4 \n",
      "\n",
      "Profit/Loss = -3500\n"
     ]
    }
   ],
   "source": [
    "t_profit = 1000\n",
    "t_loss = 6500\n",
    "profit = (len(win_list) * t_profit) - ((len(count_list_3) - len(win_list)) * t_loss)\n",
    "# profit = (len(t_wins) * t_profit) - (len(t_lost) * t_loss)\n",
    "\n",
    "print(\"Loss Count -\", len(count_list_3) - len(win_list))\n",
    "print(\"Win Count -\", len(count_list_3), \"\\n\")\n",
    "print(\"Profit/Loss =\", profit)"
   ]
  },
  {
   "cell_type": "markdown",
   "metadata": {},
   "source": [
    "## Trading Strategy\n",
    "- start stake = 3rd (after 2 wins)\n",
    "- martingale wait space = 4\n",
    "- martingale stake step = 7\n",
    "- single target percentage = 1%\n",
    "- martingale loss percentage = 6.5%"
   ]
  },
  {
   "cell_type": "code",
   "execution_count": 364,
   "metadata": {},
   "outputs": [],
   "source": [
    "# temp = []\n",
    "# num = 17\n",
    "# for index, row in new.iterrows():\n",
    "#     if (row >= num).all() and (row == num).any():\n",
    "#         temp.append(index)\n",
    "\n",
    "# t_lost = new.iloc[temp]\n",
    "# print(\"Total lost -\", len(t_lost))\n",
    "# t_lost"
   ]
  },
  {
   "cell_type": "code",
   "execution_count": 146,
   "metadata": {},
   "outputs": [
    {
     "data": {
      "text/html": [
       "<div>\n",
       "<style scoped>\n",
       "    .dataframe tbody tr th:only-of-type {\n",
       "        vertical-align: middle;\n",
       "    }\n",
       "\n",
       "    .dataframe tbody tr th {\n",
       "        vertical-align: top;\n",
       "    }\n",
       "\n",
       "    .dataframe thead th {\n",
       "        text-align: right;\n",
       "    }\n",
       "</style>\n",
       "<table border=\"1\" class=\"dataframe\">\n",
       "  <thead>\n",
       "    <tr style=\"text-align: right;\">\n",
       "      <th></th>\n",
       "      <th>green_4p</th>\n",
       "      <th>red_4p</th>\n",
       "      <th>blue_4p</th>\n",
       "    </tr>\n",
       "  </thead>\n",
       "  <tbody>\n",
       "  </tbody>\n",
       "</table>\n",
       "</div>"
      ],
      "text/plain": [
       "Empty DataFrame\n",
       "Columns: [green_4p, red_4p, blue_4p]\n",
       "Index: []"
      ]
     },
     "execution_count": 146,
     "metadata": {},
     "output_type": "execute_result"
    }
   ],
   "source": [
    "new[50:10]"
   ]
  },
  {
   "cell_type": "code",
   "execution_count": 259,
   "metadata": {},
   "outputs": [
    {
     "name": "stdout",
     "output_type": "stream",
     "text": [
      "61\n",
      "52\n",
      "37\n"
     ]
    }
   ],
   "source": [
    "val = 4\n",
    "\n",
    "print(df[f\"green_{val}p\"].max())\n",
    "print(df[f\"red_{val}p\"].max())\n",
    "print(df[f\"blue_{val}p\"].max())"
   ]
  },
  {
   "cell_type": "code",
   "execution_count": null,
   "metadata": {},
   "outputs": [],
   "source": []
  },
  {
   "cell_type": "code",
   "execution_count": null,
   "metadata": {},
   "outputs": [],
   "source": []
  }
 ],
 "metadata": {
  "kernelspec": {
   "display_name": "Python 3",
   "language": "python",
   "name": "python3"
  },
  "language_info": {
   "codemirror_mode": {
    "name": "ipython",
    "version": 3
   },
   "file_extension": ".py",
   "mimetype": "text/x-python",
   "name": "python",
   "nbconvert_exporter": "python",
   "pygments_lexer": "ipython3",
   "version": "3.11.2"
  },
  "orig_nbformat": 4
 },
 "nbformat": 4,
 "nbformat_minor": 2
}
