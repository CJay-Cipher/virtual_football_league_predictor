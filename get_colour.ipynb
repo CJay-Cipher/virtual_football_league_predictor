{
 "cells": [
  {
   "cell_type": "markdown",
   "metadata": {},
   "source": [
    "## For Demo"
   ]
  },
  {
   "cell_type": "code",
   "execution_count": 92,
   "metadata": {},
   "outputs": [
    {
     "name": "stdout",
     "output_type": "stream",
     "text": [
      "26\n"
     ]
    }
   ],
   "source": [
    "columns=['b1', 'b2', 'b3', 'b4', 'b5', 'b6', \n",
    "         'green_0', 'green_2p', 'green_3p', 'green_4p', 'green_5p', 'green_6', \n",
    "         'red_0', 'red_2p', 'red_3p', 'red_4p', 'red_5p', 'red_6', \n",
    "         'blue_0', 'blue_2p', 'blue_3p', 'blue_4p', 'blue_5p', 'blue_6', \n",
    "         'colours', 'total']\n",
    "\n",
    "print(len((20, 6, 32, 7, 45, 18, 43, 0, 0, 12, 275, 1255, 12, 1, 6, 13, 251, 2170, 13, 0, 1, 4, 101, 2801, '132', 128)))"
   ]
  },
  {
   "cell_type": "code",
   "execution_count": 94,
   "metadata": {},
   "outputs": [],
   "source": [
    "# cols=['b1', 'b2', 'b3', 'b4', 'b5', 'b6', \n",
    "#          'green_0', 'green_2p', 'green_3p', 'green_4p', 'green_5p', 'green_6', \n",
    "#          'red_0', 'red_2p', 'red_3p', 'red_4p', 'red_5p', 'red_6', \n",
    "#          'blue_0', 'blue_2p', 'blue_3p', 'blue_4p', 'blue_5p', 'blue_6', \n",
    "#          'colours', 'total']\n",
    "# df = pd.DataFrame(record_list, columns=cols)\n",
    "\n",
    "# # Save the DataFrame as a CSV file\n",
    "# df.to_csv('colour_records/rec_10.csv', index=False)"
   ]
  },
  {
   "cell_type": "code",
   "execution_count": 108,
   "metadata": {},
   "outputs": [
    {
     "name": "stdout",
     "output_type": "stream",
     "text": [
      "(14, 15, 10, 29, 13, 24, 4, 0, 2, 2, 20, 5632, 19, 0, 6, 18, 56, 1410, 14, 0, 1, 4, 155, 395, '222', 105)\n"
     ]
    }
   ],
   "source": [
    "import pandas as pd\n",
    "from selenium.webdriver.chrome.service import Service\n",
    "from selenium import webdriver\n",
    "from selenium.webdriver.common.keys import Keys\n",
    "from selenium.webdriver.common.by import By\n",
    "from selenium.webdriver.common.action_chains import ActionChains\n",
    "from selenium.common.exceptions import NoSuchElementException, ElementClickInterceptedException\n",
    "import time\n",
    "\n",
    "service = Service(\"chrome_driver/chromedriver.exe\")\n",
    "driver = webdriver.Chrome(service=service)\n",
    "\n",
    "# Create an instance of ActionChains\n",
    "actions = ActionChains(driver)\n",
    "\n",
    "driver.get(\"https://logigames.bet9ja.com/Games/Launcher?gameId=11000&provider=0&pff=1&skin=201\")\n",
    "# driver.maximize_window()\n",
    "time.sleep(5)\n",
    "\n",
    "record_list = []\n",
    "\n",
    "while True:\n",
    "    counter = driver.find_element(By.XPATH, \"//div[@class='timeline__value-txt']\").text\n",
    "    # print(counter)\n",
    "\n",
    "    if int(counter) < 44 and int(counter) > 20:\n",
    "\n",
    "        driver.find_element(By.XPATH, \"//div[@class='stats__toggle ']\").click()\n",
    "        time.sleep(0.5)\n",
    "        driver.find_element(By.XPATH, \"//a[contains(text(),'Rainbow')]\").click()\n",
    "        driver.find_element(By.XPATH, \"//div[@class='dd__trigger active dd__menu-open']//div[@class='dd__menu-item--value'][normalize-space()='All time']\").click()\n",
    "        time.sleep(3)\n",
    "\n",
    "        stats = driver.find_element(By.XPATH, \"//div[@class='p-stats__content']\").text\n",
    "        stats_record = tuple([int(x.split(\" \")[0].split(\"\\n\")[1]) for x in stats.split(\"%\")[1:]])\n",
    "\n",
    "        driver.find_element(By.XPATH, \"//a[normalize-space()='History']\").click()\n",
    "        time.sleep(2)\n",
    "        \n",
    "        history = driver.find_element(By.XPATH, \"//div[@class='p-stats__content']\").text\n",
    "        colours_count = history.split(\" \")[9:][0].split(\"\\n\")[-1]\n",
    "        sum_colours = int(history.split(\" \")[9:][1].split(\"\\n\")[0])\n",
    "\n",
    "        ball_path = \"/html[1]/body[1]/div[1]/div[1]/div[1]/div[1]/main[1]/div[4]/div[2]/table[1]/tbody[1]/tr[1]/td[2]/div[1]/span[\"\n",
    "        ball_1 = int(driver.find_element(By.XPATH, f\"{ball_path}1]\").text)\n",
    "        ball_2 = int(driver.find_element(By.XPATH, f\"{ball_path}2]\").text)\n",
    "        ball_3 = int(driver.find_element(By.XPATH, f\"{ball_path}3]\").text)\n",
    "        ball_4 = int(driver.find_element(By.XPATH, f\"{ball_path}4]\").text)\n",
    "        ball_5 = int(driver.find_element(By.XPATH, f\"{ball_path}5]\").text)\n",
    "        ball_6 = int(driver.find_element(By.XPATH, f\"{ball_path}6]\").text)\n",
    "        \n",
    "        all_balls = (ball_1, ball_2, ball_3, ball_4, ball_5, ball_6)\n",
    "        all_record = all_balls + stats_record + (colours_count, sum_colours)\n",
    "        record_list.append(all_record)\n",
    "        print(all_record)\n",
    "\n",
    "\n",
    "        while True:\n",
    "            counter = driver.find_element(By.XPATH, \"//div[@class='timeline__value-txt']\").text\n",
    "            # print(counter)\n",
    "            if int(counter) <= 42 and int(counter) >= 39:\n",
    "                # print(\"waiting for new records\")\n",
    "\n",
    "                # Trading\n",
    "                driver.find_element(By.XPATH, \"//div[@class='stats__toggle active']\").click()\n",
    "                # time.sleep(5)\n",
    "                break\n",
    "            else:\n",
    "                time.sleep(1)\n",
    "\n",
    "    else:\n",
    "        time.sleep(1)\n",
    "\n",
    "# Close the browser session\n",
    "driver.quit()"
   ]
  },
  {
   "cell_type": "code",
   "execution_count": 107,
   "metadata": {},
   "outputs": [],
   "source": [
    "cols=['b1', 'b2', 'b3', 'b4', 'b5', 'b6', \n",
    "         'green_0', 'green_2p', 'green_3p', 'green_4p', 'green_5p', 'green_6', \n",
    "         'red_0', 'red_2p', 'red_3p', 'red_4p', 'red_5p', 'red_6', \n",
    "         'blue_0', 'blue_2p', 'blue_3p', 'blue_4p', 'blue_5p', 'blue_6', \n",
    "         'colours', 'total']\n",
    "df = pd.DataFrame(record_list, columns=cols)\n",
    "\n",
    "# Save the DataFrame as a CSV file\n",
    "df.to_csv('colour_records/rec_7.csv', index=False)"
   ]
  },
  {
   "cell_type": "code",
   "execution_count": 95,
   "metadata": {},
   "outputs": [
    {
     "data": {
      "text/html": [
       "<div>\n",
       "<style scoped>\n",
       "    .dataframe tbody tr th:only-of-type {\n",
       "        vertical-align: middle;\n",
       "    }\n",
       "\n",
       "    .dataframe tbody tr th {\n",
       "        vertical-align: top;\n",
       "    }\n",
       "\n",
       "    .dataframe thead th {\n",
       "        text-align: right;\n",
       "    }\n",
       "</style>\n",
       "<table border=\"1\" class=\"dataframe\">\n",
       "  <thead>\n",
       "    <tr style=\"text-align: right;\">\n",
       "      <th></th>\n",
       "      <th>b1</th>\n",
       "      <th>b2</th>\n",
       "      <th>b3</th>\n",
       "      <th>b4</th>\n",
       "      <th>b5</th>\n",
       "      <th>b6</th>\n",
       "      <th>green_0</th>\n",
       "      <th>green_2p</th>\n",
       "      <th>green_3p</th>\n",
       "      <th>green_4p</th>\n",
       "      <th>...</th>\n",
       "      <th>red_5p</th>\n",
       "      <th>red_6</th>\n",
       "      <th>blue_0</th>\n",
       "      <th>blue_2p</th>\n",
       "      <th>blue_3p</th>\n",
       "      <th>blue_4p</th>\n",
       "      <th>blue_5p</th>\n",
       "      <th>blue_6</th>\n",
       "      <th>colours</th>\n",
       "      <th>total</th>\n",
       "    </tr>\n",
       "  </thead>\n",
       "  <tbody>\n",
       "  </tbody>\n",
       "</table>\n",
       "<p>0 rows × 26 columns</p>\n",
       "</div>"
      ],
      "text/plain": [
       "Empty DataFrame\n",
       "Columns: [b1, b2, b3, b4, b5, b6, green_0, green_2p, green_3p, green_4p, green_5p, green_6, red_0, red_2p, red_3p, red_4p, red_5p, red_6, blue_0, blue_2p, blue_3p, blue_4p, blue_5p, blue_6, colours, total]\n",
       "Index: []\n",
       "\n",
       "[0 rows x 26 columns]"
      ]
     },
     "execution_count": 95,
     "metadata": {},
     "output_type": "execute_result"
    }
   ],
   "source": [
    "df[df.duplicated()]"
   ]
  },
  {
   "cell_type": "markdown",
   "metadata": {},
   "source": [
    "## For Real Trading"
   ]
  },
  {
   "cell_type": "code",
   "execution_count": null,
   "metadata": {},
   "outputs": [],
   "source": [
    "import pandas as pd\n",
    "from selenium.webdriver.chrome.service import Service\n",
    "from selenium import webdriver\n",
    "from selenium.webdriver.common.keys import Keys\n",
    "from selenium.webdriver.common.by import By\n",
    "from selenium.webdriver.common.action_chains import ActionChains\n",
    "from selenium.common.exceptions import NoSuchElementException, ElementClickInterceptedException\n",
    "import time\n",
    "\n",
    "service = Service(\"chrome_driver/chromedriver.exe\")\n",
    "driver = webdriver.Chrome(service=service)\n",
    "\n",
    "driver.get(\"https://casino.bet9ja.com/casino/category/popular\")\n",
    "# driver.maximize_window()\n",
    "time.sleep(5)\n",
    "\n",
    "# Create an instance of ActionChains\n",
    "actions = ActionChains(driver)\n",
    "\n",
    "# login \n",
    "username = \"Nnabueze\"\n",
    "password = \"cjval1610\"\n",
    "driver.find_element(By.XPATH, \"//div[@title='Log In']\").click()\n",
    "time.sleep(1)\n",
    "driver.find_element(By.XPATH, \"//input[@id='01']\").send_keys(username)\n",
    "driver.find_element(By.XPATH, \"//input[@id='02']\").send_keys(password)\n",
    "driver.find_element(By.XPATH, \"//div[@class='btn-primary-l mt20']\").click()\n",
    "time.sleep(3)\n",
    "\n",
    "element_to_hover = driver.find_element(By.XPATH, \"//div[@id='11000']//div[@class='game__info']\")\n",
    "actions.move_to_element(element_to_hover).perform()\n",
    "\n",
    "# # for demo training\n",
    "# driver.find_element(By.XPATH, \"//div[@id='11000']//button[@title='Demo'][normalize-space()='Demo']\").click()\n",
    "\n",
    "# for real trading\n",
    "driver.find_element(By.XPATH, \"//div[@id='11000']//div[@class='game__info']//button[@title='Play Now'][normalize-space()='Play Now']\").click()\n",
    "\n",
    "time.sleep(5)\n",
    "\n",
    "# Get the handles of all open windows\n",
    "window_handles = driver.window_handles\n",
    "\n",
    "# Switch to the new window\n",
    "new_window_handle = window_handles[-1]  # Get the handle of the last window in the list\n",
    "driver.switch_to.window(new_window_handle)\n",
    "# print(len(window_handles))\n",
    "\n",
    "# Now you are in the new window\n",
    "\n",
    "# Continue with actions or assertions in the new window\n",
    "driver.maximize_window()\n",
    "time.sleep(1)\n",
    "driver.find_element(By.XPATH, \"//div[@class='games']//a[1]\").click()\n",
    "\n",
    "# # After finishing with the new window, you can switch back to the original window if needed\n",
    "# driver.switch_to.window(window_handles[0])\n",
    "# driver.maximize_window()\n",
    "\n",
    "# # Close the browser session\n",
    "# driver.quit()"
   ]
  },
  {
   "cell_type": "code",
   "execution_count": null,
   "metadata": {},
   "outputs": [],
   "source": []
  },
  {
   "cell_type": "code",
   "execution_count": null,
   "metadata": {},
   "outputs": [],
   "source": []
  }
 ],
 "metadata": {
  "kernelspec": {
   "display_name": "Python 3",
   "language": "python",
   "name": "python3"
  },
  "language_info": {
   "codemirror_mode": {
    "name": "ipython",
    "version": 3
   },
   "file_extension": ".py",
   "mimetype": "text/x-python",
   "name": "python",
   "nbconvert_exporter": "python",
   "pygments_lexer": "ipython3",
   "version": "3.11.2"
  },
  "orig_nbformat": 4
 },
 "nbformat": 4,
 "nbformat_minor": 2
}
