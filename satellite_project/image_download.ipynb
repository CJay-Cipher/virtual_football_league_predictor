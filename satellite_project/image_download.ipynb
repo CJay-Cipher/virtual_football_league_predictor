{
 "cells": [
  {
   "cell_type": "code",
   "execution_count": 1,
   "metadata": {},
   "outputs": [],
   "source": [
    "import ee\n",
    "import geemap"
   ]
  },
  {
   "cell_type": "code",
   "execution_count": 2,
   "metadata": {},
   "outputs": [
    {
     "data": {
      "application/vnd.jupyter.widget-view+json": {
       "model_id": "0fad9d375ae040a696f0e1565c64bb67",
       "version_major": 2,
       "version_minor": 0
      },
      "text/plain": [
       "Map(center=[0, 0], controls=(WidgetControl(options=['position', 'transparent_bg'], widget=HBox(children=(Toggl…"
      ]
     },
     "execution_count": 2,
     "metadata": {},
     "output_type": "execute_result"
    }
   ],
   "source": [
    "Map = geemap.Map()\n",
    "Map"
   ]
  },
  {
   "cell_type": "code",
   "execution_count": 7,
   "metadata": {},
   "outputs": [
    {
     "data": {
      "text/plain": [
       "('2021-12-01', '2021-12-28')"
      ]
     },
     "execution_count": 7,
     "metadata": {},
     "output_type": "execute_result"
    }
   ],
   "source": [
    "x = 12\n",
    "f'2021-{x}-01', f'2021-{x}-28'"
   ]
  },
  {
   "cell_type": "code",
   "execution_count": 3,
   "metadata": {},
   "outputs": [
    {
     "name": "stdout",
     "output_type": "stream",
     "text": [
      "SAVING: <class 'str'>\n",
      "SAVING: <class 'str'>\n",
      "SAVING: <class 'str'>\n",
      "SAVING: <class 'str'>\n",
      "SAVING: <class 'str'>\n",
      "SAVING: <class 'str'>\n",
      "SAVING: <class 'str'>\n",
      "SAVING: <class 'str'>\n",
      "SAVING: <class 'str'>\n",
      "SAVING: <class 'int'>\n",
      "SAVING: <class 'int'>\n",
      "SAVING: <class 'int'>\n"
     ]
    }
   ],
   "source": [
    "import ee\n",
    "import geemap\n",
    "\n",
    "years = [2013, 2014, 2015, 2016, 2017, 2018, 2019, 2020, 2021]\n",
    "# year = 2013\n",
    "for year in years:\n",
    "    province = [\"eastern_cape\", \"limpopo\", \"western_cape\"]\n",
    "\n",
    "    for place in province:\n",
    "        # Define the path to the shapefile\n",
    "        shp_path = f\"E:/satellite_images/{place}/{place}.shp\"\n",
    "\n",
    "        # Convert the shapefile to an Earth Engine geometry\n",
    "        roi = geemap.shp_to_ee(shp_path).geometry()\n",
    "\n",
    "        for x in range(1, 13):\n",
    "            if len(str(x)) != 2:\n",
    "                x = f\"0{x}\"\n",
    "            print(\"SAVING:\", x)\n",
    "            # Load nighttime lights data\n",
    "            nl = ee.ImageCollection('NOAA/VIIRS/DNB/MONTHLY_V1/VCMSLCFG') \\\n",
    "            .filterDate(f'{year}-{x}-01', f'{year}-{x}-28') \\\n",
    "                .median() \\\n",
    "                .select('avg_rad')\n",
    "\n",
    "            # Define the CRS and scale\n",
    "            crs = nl.projection().crs()\n",
    "            scale = 500\n",
    "\n",
    "            # Center the map on the ROI\n",
    "            Map.centerObject(roi, 6)\n",
    "\n",
    "            # Export the image for further analysis\n",
    "            output_file = f\"E:/nightlight_images/{place}/{place}_{x}.tif\"  # Output file path\n",
    "\n",
    "            geemap.ee_export_image(nl, output_file, region=roi, scale=scale, crs=crs)"
   ]
  },
  {
   "cell_type": "code",
   "execution_count": 3,
   "metadata": {},
   "outputs": [
    {
     "name": "stdout",
     "output_type": "stream",
     "text": [
      "SAVING: 01\n",
      "Generating URL ...\n",
      "Downloading data from https://earthengine.googleapis.com/v1/projects/earthengine-legacy/thumbnails/e1a2c87fe29edcdadc0132e50531be23-d74337c4efd23cc6a89cb699c8eedfa4:getPixels\n",
      "Please wait ...\n",
      "Data downloaded to c:\\Users\\CJay\\Documents\\GitHub\\virtual_football_league_predictor\\satellite_project\\nightlight_images\\ec_nightlight01.tif\n",
      "SAVING: 02\n",
      "Generating URL ...\n",
      "Downloading data from https://earthengine.googleapis.com/v1/projects/earthengine-legacy/thumbnails/342a35b19c0a789638e57d3a571a86c4-9201024ffeb91f9f6a9ce282db4fcc00:getPixels\n",
      "Please wait ...\n",
      "Data downloaded to c:\\Users\\CJay\\Documents\\GitHub\\virtual_football_league_predictor\\satellite_project\\nightlight_images\\ec_nightlight02.tif\n",
      "SAVING: 03\n",
      "Generating URL ...\n",
      "Downloading data from https://earthengine.googleapis.com/v1/projects/earthengine-legacy/thumbnails/af493435d6efe2a9541cd9d6f0ae873a-d9afb66a89a9232afe7e569176cee156:getPixels\n",
      "Please wait ...\n",
      "Data downloaded to c:\\Users\\CJay\\Documents\\GitHub\\virtual_football_league_predictor\\satellite_project\\nightlight_images\\ec_nightlight03.tif\n",
      "SAVING: 04\n",
      "Generating URL ...\n",
      "Downloading data from https://earthengine.googleapis.com/v1/projects/earthengine-legacy/thumbnails/83fa692f151d9bcf948eb48cf44280d5-9954a5c2508829cc00d4d474c75c10d9:getPixels\n",
      "Please wait ...\n",
      "Data downloaded to c:\\Users\\CJay\\Documents\\GitHub\\virtual_football_league_predictor\\satellite_project\\nightlight_images\\ec_nightlight04.tif\n",
      "SAVING: 05\n",
      "Generating URL ...\n",
      "Downloading data from https://earthengine.googleapis.com/v1/projects/earthengine-legacy/thumbnails/aab44726eed99b51c29612b2848889a0-f96403c91b934869225993780bf2be21:getPixels\n",
      "Please wait ...\n",
      "Data downloaded to c:\\Users\\CJay\\Documents\\GitHub\\virtual_football_league_predictor\\satellite_project\\nightlight_images\\ec_nightlight05.tif\n",
      "SAVING: 06\n",
      "Generating URL ...\n",
      "Downloading data from https://earthengine.googleapis.com/v1/projects/earthengine-legacy/thumbnails/ebb9db80feb152560f8e6136d3ae8c6d-375fecfcf5ea4a67c384f4511b3b4a49:getPixels\n",
      "Please wait ...\n",
      "Data downloaded to c:\\Users\\CJay\\Documents\\GitHub\\virtual_football_league_predictor\\satellite_project\\nightlight_images\\ec_nightlight06.tif\n",
      "SAVING: 07\n",
      "Generating URL ...\n",
      "Downloading data from https://earthengine.googleapis.com/v1/projects/earthengine-legacy/thumbnails/e4b1f345d9389dd6c5b3797a1971cf92-c042ae132ec45d62eeff24a2ccf2cd98:getPixels\n",
      "Please wait ...\n",
      "Data downloaded to c:\\Users\\CJay\\Documents\\GitHub\\virtual_football_league_predictor\\satellite_project\\nightlight_images\\ec_nightlight07.tif\n",
      "SAVING: 08\n",
      "Generating URL ...\n",
      "Downloading data from https://earthengine.googleapis.com/v1/projects/earthengine-legacy/thumbnails/a9f53d27b40cd857f841b243a6b61308-4333ee1654cda2bb0dbcb053da149c53:getPixels\n",
      "Please wait ...\n",
      "Data downloaded to c:\\Users\\CJay\\Documents\\GitHub\\virtual_football_league_predictor\\satellite_project\\nightlight_images\\ec_nightlight08.tif\n",
      "SAVING: 09\n",
      "Generating URL ...\n",
      "Downloading data from https://earthengine.googleapis.com/v1/projects/earthengine-legacy/thumbnails/52119ae1ece14cdd0c94a2706a23a7d8-94d995cdbac675131e0294b7c382b395:getPixels\n",
      "Please wait ...\n",
      "Data downloaded to c:\\Users\\CJay\\Documents\\GitHub\\virtual_football_league_predictor\\satellite_project\\nightlight_images\\ec_nightlight09.tif\n",
      "SAVING: 10\n",
      "Generating URL ...\n",
      "Downloading data from https://earthengine.googleapis.com/v1/projects/earthengine-legacy/thumbnails/21b02dab881fb19fa8afbd2311c6ca58-c805d918eccc52bdf917ee5d99b9f5ca:getPixels\n",
      "Please wait ...\n",
      "Data downloaded to c:\\Users\\CJay\\Documents\\GitHub\\virtual_football_league_predictor\\satellite_project\\nightlight_images\\ec_nightlight10.tif\n",
      "SAVING: 11\n",
      "Generating URL ...\n",
      "Downloading data from https://earthengine.googleapis.com/v1/projects/earthengine-legacy/thumbnails/4adbf8c705182e6e5be099cbd0845c84-6c1479fe9e07e7d30eefc2316deb273b:getPixels\n",
      "Please wait ...\n",
      "Data downloaded to c:\\Users\\CJay\\Documents\\GitHub\\virtual_football_league_predictor\\satellite_project\\nightlight_images\\ec_nightlight11.tif\n",
      "SAVING: 12\n",
      "Generating URL ...\n",
      "Downloading data from https://earthengine.googleapis.com/v1/projects/earthengine-legacy/thumbnails/75e2f16c71dd5d6bfb557ef61f370a26-d7a5d1d53143058a14b230af9e04a70a:getPixels\n",
      "Please wait ...\n",
      "Data downloaded to c:\\Users\\CJay\\Documents\\GitHub\\virtual_football_league_predictor\\satellite_project\\nightlight_images\\ec_nightlight12.tif\n"
     ]
    }
   ],
   "source": [
    "import ee\n",
    "import geemap\n",
    "\n",
    "# Define the path to the shapefile\n",
    "shp_path = \"E:/sa_satellite_files/eastern_cape/shape_files/eastern_cape.shp\"\n",
    "\n",
    "# Convert the shapefile to an Earth Engine geometry\n",
    "roi = geemap.shp_to_ee(shp_path).geometry()\n",
    "\n",
    "for x in range(1, 13):\n",
    "    if len(str(x)) != 2:\n",
    "        x = f\"0{x}\"\n",
    "    print(\"SAVING:\", x)\n",
    "    # Load nighttime lights data\n",
    "    nl = ee.ImageCollection('NOAA/VIIRS/DNB/MONTHLY_V1/VCMSLCFG') \\\n",
    "        .filterDate(f'2021-{x}-01', f'2021-{x}-28') \\\n",
    "        .median() \\\n",
    "        .select('avg_rad')\n",
    "\n",
    "    # Define the CRS and scale\n",
    "    crs = nl.projection().crs()\n",
    "    scale = 500\n",
    "\n",
    "    # Center the map on the ROI\n",
    "    Map.centerObject(roi, 6)\n",
    "\n",
    "    # Export the image for further analysis\n",
    "    output_file = f'nightlight_images/ec_nightlight{x}.tif'  # Output file path\n",
    "\n",
    "    geemap.ee_export_image(nl, output_file, region=roi, scale=scale, crs=crs)"
   ]
  },
  {
   "cell_type": "code",
   "execution_count": 22,
   "metadata": {},
   "outputs": [
    {
     "name": "stdout",
     "output_type": "stream",
     "text": [
      "SAVING: 01\n",
      "Generating URL ...\n",
      "Downloading data from https://earthengine.googleapis.com/v1/projects/earthengine-legacy/thumbnails/e1d972e43c7ffe253a30aaebc955a908-fd749a7e615867e62e6546a50dc23a57:getPixels\n",
      "Please wait ...\n",
      "Data downloaded to c:\\Users\\CJay\\Documents\\GitHub\\virtual_football_league_predictor\\satellite_project\\nightlight_images\\ec_nightlight_2010_01.tif\n"
     ]
    }
   ],
   "source": [
    "import ee\n",
    "import geemap\n",
    "\n",
    "# Define the path to the shapefile\n",
    "shp_path = \"E:/sa_satellite_files/eastern_cape/shape_files/eastern_cape.shp\"\n",
    "\n",
    "# Convert the shapefile to an Earth Engine geometry\n",
    "roi = geemap.shp_to_ee(shp_path).geometry()\n",
    "\n",
    "# Load nighttime lights data\n",
    "nl = ee.ImageCollection('NOAA/VIIRS/DNB/MONTHLY_V1/VCMSLCFG') \\\n",
    "    .filterDate(f'2015-{x}-01', f'2015-{x}-28') \\\n",
    "    .median() \\\n",
    "    .select('avg_rad')\n",
    "\n",
    "# Define the CRS and scale\n",
    "crs = nl.projection().crs()\n",
    "scale = 500\n",
    "\n",
    "# Center the map on the ROI\n",
    "Map.centerObject(roi, 6)\n",
    "\n",
    "# Export the image for further analysis\n",
    "output_file = f'nightlight_images/ec_nightlight_2010_{x}.tif'  # Output file path\n",
    "\n",
    "geemap.ee_export_image(nl, output_file, region=roi, scale=scale, crs=crs)"
   ]
  },
  {
   "cell_type": "code",
   "execution_count": 24,
   "metadata": {},
   "outputs": [
    {
     "name": "stdout",
     "output_type": "stream",
     "text": [
      "Mean intensity: 0.17128270864486694\n",
      "Median intensity: 0.12999999523162842\n",
      "Minimum intensity: -0.11999999731779099\n",
      "Maximum intensity: 85.30999755859375\n"
     ]
    }
   ],
   "source": [
    "import rasterio\n",
    "import numpy as np\n",
    "\n",
    "def calculate_nightlight_intensity(image_path):\n",
    "    # Open the image file\n",
    "    with rasterio.open(image_path) as src:\n",
    "        # Read the image data\n",
    "        image = src.read(1)  # Assuming it's a single-band image, change the index if necessary\n",
    "\n",
    "        # Calculate the statistics\n",
    "        intensity_mean = image.mean()\n",
    "        intensity_median = np.median(image)\n",
    "        intensity_min = image.min()\n",
    "        intensity_max = image.max()\n",
    "\n",
    "    return intensity_mean, intensity_median, intensity_min, intensity_max\n",
    "\n",
    "# Provide the path to your satellite image\n",
    "image_path = \"E:/sa_satellite_files/eastern_cape/converted_images/eastern_cape.tif\"\n",
    "\n",
    "# Call the function to calculate the intensity\n",
    "mean_intensity, median_intensity, min_intensity, max_intensity = calculate_nightlight_intensity(image_path)\n",
    "\n",
    "# Print the results\n",
    "print(f\"Mean intensity: {mean_intensity}\")\n",
    "print(f\"Median intensity: {median_intensity}\")\n",
    "print(f\"Minimum intensity: {min_intensity}\")\n",
    "print(f\"Maximum intensity: {max_intensity}\")"
   ]
  },
  {
   "cell_type": "code",
   "execution_count": null,
   "metadata": {},
   "outputs": [],
   "source": [
    "# JAN\n",
    "# Mean intensity: 0.28346601128578186\n",
    "# Median intensity: 0.2199999988079071\n",
    "# Minimum intensity: -0.3700000047683716\n",
    "# Maximum intensity: 102.31999969482422\n",
    "\n",
    "# FEB\n",
    "# Mean intensity: 0.2819473147392273\n",
    "# Median intensity: 0.20000000298023224\n",
    "# Minimum intensity: -0.23999999463558197\n",
    "# Maximum intensity: 120.20999908447266\n",
    "\n",
    "# JUNE\n",
    "# Mean intensity: 0.28956228494644165\n",
    "# Median intensity: 0.20999999344348907\n",
    "# Minimum intensity: -0.20999999344348907\n",
    "# Maximum intensity: 208.97000122070312\n",
    "\n",
    "# MARCH\n",
    "# Mean intensity: 0.3796255886554718\n",
    "# Median intensity: 0.3100000023841858\n",
    "# Minimum intensity: -0.41999998688697815\n",
    "# Maximum intensity: 101.83999633789062"
   ]
  },
  {
   "cell_type": "code",
   "execution_count": 20,
   "metadata": {},
   "outputs": [
    {
     "name": "stdout",
     "output_type": "stream",
     "text": [
      "Nightlight intensity: 50.91999816894531\n"
     ]
    }
   ],
   "source": [
    "import rasterio\n",
    "import numpy as np\n",
    "\n",
    "def calculate_nightlight_intensity(image_path, calibration_factor):\n",
    "    with rasterio.open(image_path) as src:\n",
    "        # Read the image data (assuming single-band image)\n",
    "        image = src.read(1)\n",
    "\n",
    "        # Apply calibration factor\n",
    "        calibrated_image = image * calibration_factor\n",
    "\n",
    "        # Calculate the nightlight intensity\n",
    "        intensity = np.max(calibrated_image)\n",
    "\n",
    "    return intensity\n",
    "\n",
    "# Path to the satellite image\n",
    "image_path = 'nightlight_images/ec_nightlight03.tif'\n",
    "\n",
    "# Calibration factor (specific to your data and sensor)\n",
    "calibration_factor = 0.5\n",
    "\n",
    "# Calculate the nightlight intensity\n",
    "nightlight_intensity = calculate_nightlight_intensity(image_path, calibration_factor)\n",
    "\n",
    "# Print the result\n",
    "print(f\"Nightlight intensity: {nightlight_intensity}\")"
   ]
  },
  {
   "cell_type": "code",
   "execution_count": null,
   "metadata": {},
   "outputs": [],
   "source": [
    "#JAN = Nightlight intensity: 0.14173300564289093\n",
    "#FEB = Nightlight intensity: 0.14097365736961365\n",
    "#MARCH = Nightlight intensity: 0.1898127943277359\n",
    "\n",
    "#JUME = Nightlight intensity: 0.14478114247322083\n",
    "\n",
    "\n",
    "#DEC =  Nightlight intensity: 0.16650176048278809"
   ]
  },
  {
   "cell_type": "code",
   "execution_count": null,
   "metadata": {},
   "outputs": [],
   "source": []
  },
  {
   "cell_type": "code",
   "execution_count": 23,
   "metadata": {},
   "outputs": [
    {
     "name": "stdout",
     "output_type": "stream",
     "text": [
      "Mean intensity: 0.19966569542884827\n",
      "Median intensity: 0.11007333546876907\n",
      "Minimum intensity: -0.3027748167514801\n",
      "Maximum intensity: 364.4615478515625\n"
     ]
    }
   ],
   "source": [
    "import rasterio\n",
    "import numpy as np\n",
    "\n",
    "def calculate_nightlight_intensity(image_path):\n",
    "    # Open the image file\n",
    "    with rasterio.open(image_path) as src:\n",
    "        # Read the image data\n",
    "        image = src.read(1)  # Assuming it's a single-band image, change the index if necessary\n",
    "\n",
    "        # Calculate the statistics\n",
    "        intensity_mean = image.mean()\n",
    "        intensity_median = np.median(image)\n",
    "        intensity_min = image.min()\n",
    "        intensity_max = image.max()\n",
    "\n",
    "    return intensity_mean, intensity_median, intensity_min, intensity_max\n",
    "\n",
    "# Provide the path to your satellite image\n",
    "image_path = 'nightlight_images/ec_nightlight_2010_01.tif'\n",
    "\n",
    "# Call the function to calculate the intensity\n",
    "mean_intensity, median_intensity, min_intensity, max_intensity = calculate_nightlight_intensity(image_path)\n",
    "\n",
    "# Print the results\n",
    "print(f\"Mean intensity: {mean_intensity}\")\n",
    "print(f\"Median intensity: {median_intensity}\")\n",
    "print(f\"Minimum intensity: {min_intensity}\")\n",
    "print(f\"Maximum intensity: {max_intensity}\")"
   ]
  },
  {
   "cell_type": "code",
   "execution_count": null,
   "metadata": {},
   "outputs": [],
   "source": [
    "# JAN\n",
    "# Mean intensity: 0.28346601128578186\n",
    "# Median intensity: 0.2199999988079071\n",
    "# Minimum intensity: -0.3700000047683716\n",
    "# Maximum intensity: 102.31999969482422"
   ]
  }
 ],
 "metadata": {
  "kernelspec": {
   "display_name": "Python 3",
   "language": "python",
   "name": "python3"
  },
  "language_info": {
   "codemirror_mode": {
    "name": "ipython",
    "version": 3
   },
   "file_extension": ".py",
   "mimetype": "text/x-python",
   "name": "python",
   "nbconvert_exporter": "python",
   "pygments_lexer": "ipython3",
   "version": "3.11.2"
  }
 },
 "nbformat": 4,
 "nbformat_minor": 2
}
