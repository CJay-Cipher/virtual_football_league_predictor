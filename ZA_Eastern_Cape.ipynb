{
 "cells": [
  {
   "cell_type": "code",
   "execution_count": 1,
   "metadata": {},
   "outputs": [],
   "source": [
    "# import os\n",
    "import ee\n",
    "import geemap"
   ]
  },
  {
   "cell_type": "code",
   "execution_count": 2,
   "metadata": {},
   "outputs": [
    {
     "data": {
      "application/vnd.jupyter.widget-view+json": {
       "model_id": "c3bcc4d8422146c68a8a21d7eb4f347d",
       "version_major": 2,
       "version_minor": 0
      },
      "text/plain": [
       "Map(center=[0, 0], controls=(WidgetControl(options=['position', 'transparent_bg'], widget=HBox(children=(Toggl…"
      ]
     },
     "execution_count": 2,
     "metadata": {},
     "output_type": "execute_result"
    }
   ],
   "source": [
    "Map = geemap.Map()\n",
    "Map"
   ]
  },
  {
   "cell_type": "code",
   "execution_count": 11,
   "metadata": {},
   "outputs": [
    {
     "data": {
      "application/vnd.jupyter.widget-view+json": {
       "model_id": "36eef948cbb14ff790884979bc5030cc",
       "version_major": 2,
       "version_minor": 0
      },
      "text/plain": [
       "my_sentinel_8: |          | 0.00/9.38M (raw) [  0.0%] in 00:00 (eta:     ?)"
      ]
     },
     "metadata": {},
     "output_type": "display_data"
    },
    {
     "name": "stderr",
     "output_type": "stream",
     "text": [
      "There is no STAC entry for: None\n"
     ]
    }
   ],
   "source": [
    "# Define the path to the shapefile\n",
    "shp_path = \"E:/sa_satellite_files/eastern_cape/shape_files/eastern_cape.shp\"\n",
    "\n",
    "# Convert the shapefile to an Earth Engine geometry\n",
    "roi = geemap.shp_to_ee(shp_path).geometry()\n",
    "\n",
    "# Load Sentinel-2 data\n",
    "collection = ee.ImageCollection('COPERNICUS/S2_SR') \\\n",
    "    .filterBounds(roi) \\\n",
    "    .filterDate('2021-06-01', '2021-08-31') \\\n",
    "    .filter(ee.Filter.lt('CLOUDY_PIXEL_PERCENTAGE', 10)) \\\n",
    "    .filterBounds(roi)\n",
    "\n",
    "# Select the desired bands\n",
    "bands = ['B4', 'B3', 'B2']  # Example: Selecting bands 2, 3, and 4\n",
    "\n",
    "# Apply median filter\n",
    "image = collection.select(bands).median()\n",
    "\n",
    "# Define the CRS and scale\n",
    "crs = image.projection().crs()\n",
    "scale = 1000\n",
    "\n",
    "# Display the image on the map\n",
    "vis_params = {'bands': bands, 'min': 0, 'max': 2500}  # Example: Set the min and max values\n",
    "Map.addLayer(image.clip(roi), vis_params, 'Sentinel-2')\n",
    "\n",
    "# Center the map on the ROI\n",
    "Map.centerObject(roi, 6)\n",
    "\n",
    "# Get the image footprint within the ROI\n",
    "footprint = image.geometry().intersection(roi, ee.ErrorMargin(0.5))\n",
    "\n",
    "# Download the image\n",
    "geemap.download_ee_image(image, filename='my_sentinel_8', scale=scale, crs=crs, region=footprint)"
   ]
  },
  {
   "cell_type": "code",
   "execution_count": null,
   "metadata": {},
   "outputs": [],
   "source": []
  },
  {
   "cell_type": "code",
   "execution_count": null,
   "metadata": {},
   "outputs": [],
   "source": []
  },
  {
   "cell_type": "code",
   "execution_count": 5,
   "metadata": {},
   "outputs": [
    {
     "name": "stdout",
     "output_type": "stream",
     "text": [
      "Generating URL ...\n",
      "Downloading data from https://earthengine.googleapis.com/v1/projects/earthengine-legacy/thumbnails/76eb2e08f9d75922252c588771e8b50a-1fb13f04efd61dc1109bce017bb354a7:getPixels\n",
      "Please wait ...\n",
      "Data downloaded to c:\\Users\\CJay\\Documents\\GitHub\\virtual_football_league_predictor\\my_sentinel_7.tif\n"
     ]
    }
   ],
   "source": [
    "shp_path = \"E:/sa_satellite_files/eastern_cape/shape_files/eastern_cape.shp\"\n",
    "roi = geemap.shp_to_ee(shp_path)\n",
    "\n",
    "# Load Sentinel-2 data\n",
    "collection = ee.ImageCollection('COPERNICUS/S2_SR')\\\n",
    ".filterBounds(roi).filterDate('2021-06-01', '2021-08-31')\\\n",
    ".filter(ee.Filter.lt('CLOUDY_PIXEL_PERCENTAGE', 10))\\\n",
    ".filterBounds(roi)\n",
    "\n",
    "# Select the desired bands\n",
    "bands = ['B4', 'B3', 'B2']  # Example: Selecting bands 2, 3, and 4\n",
    "\n",
    "# Apply median filter\n",
    "image = collection.select(bands).median()\n",
    "\n",
    "# Define the CRS, region, and scale\n",
    "crs = image.projection().crs()\n",
    "scale = 20\n",
    "region = roi.geometry()\n",
    "\n",
    "# Display the image on the map\n",
    "vis_params = {'bands': bands, 'min': 0, 'max': 2500}  # Example: Set the min and max values\n",
    "Map.addLayer(image.clip(roi), vis_params, 'Sentinel-2')\n",
    "\n",
    "Map.centerObject(roi, 6)\n",
    "\n",
    "# Download the image\n",
    "geemap.download_ee_image(image, \"my_sentinel_7.tif\", scale=100, crs=crs, region=region)"
   ]
  },
  {
   "cell_type": "code",
   "execution_count": 16,
   "metadata": {},
   "outputs": [
    {
     "data": {
      "application/vnd.jupyter.widget-view+json": {
       "model_id": "3b44554ba6a941e3844728dda6a45fad",
       "version_major": 2,
       "version_minor": 0
      },
      "text/plain": [
       "my_sentinel_7.tif: |          | 0.00/9.38M (raw) [  0.0%] in 00:00 (eta:     ?)"
      ]
     },
     "metadata": {},
     "output_type": "display_data"
    },
    {
     "name": "stderr",
     "output_type": "stream",
     "text": [
      "There is no STAC entry for: None\n"
     ]
    }
   ],
   "source": [
    "# Download the image\n",
    "geemap.download_ee_image(image, \"my_sentinel_7.tif\", scale=100, crs=crs, region=region)\n",
    "\n",
    "# save_path = \"C:/Users/CJay/Downloads/south_africa_shapes/eastern_cape/my_sentinel_2.tif\"\n",
    "# geemap.download_ee_image(image, filename=save_path, scale=scale, crs=crs, region=region)"
   ]
  },
  {
   "cell_type": "code",
   "execution_count": null,
   "metadata": {},
   "outputs": [],
   "source": [
    "\n",
    "# features = geemap.fishnet(roi, rows=130, cols=200, delta=0.1)\n",
    "features = geemap.fishnet(roi, rows=20, cols=30, delta=0)\n",
    "Map.centerObject(roi)\n",
    "Map.addLayer(features, {}, 'Grids')"
   ]
  },
  {
   "cell_type": "code",
   "execution_count": null,
   "metadata": {},
   "outputs": [],
   "source": []
  },
  {
   "cell_type": "code",
   "execution_count": null,
   "metadata": {},
   "outputs": [],
   "source": [
    "out_dir = \"E:/sa_satellite_files/eastern_cape/image_tiles\"\n",
    "\n",
    "geemap.download_ee_image_tiles(\n",
    "    image, features, out_dir, prefix=\"east_cape_\", crs=crs, scale=500\n",
    ")"
   ]
  },
  {
   "cell_type": "code",
   "execution_count": null,
   "metadata": {},
   "outputs": [],
   "source": []
  },
  {
   "cell_type": "code",
   "execution_count": null,
   "metadata": {},
   "outputs": [],
   "source": []
  },
  {
   "cell_type": "code",
   "execution_count": null,
   "metadata": {},
   "outputs": [],
   "source": [
    "tif_image_directory = \"C:/Users/CJay/Downloads/south_africa_shapes/eastern_cape/satellite_tiff_image.tif\"\n",
    "output_directory = \"C:/Users/CJay/Downloads/south_africa_shapes/eastern_cape/all_images\"\n"
   ]
  },
  {
   "cell_type": "code",
   "execution_count": null,
   "metadata": {},
   "outputs": [],
   "source": [
    "# Define the location of interest\n",
    "loc = ee.Geometry.Point(23.241, -30.64)\n",
    "\n",
    "# Load the shapefile and convert it to an Earth Engine object\n",
    "shp_path = \"C:/Users/CJay/Downloads/sa_satellite_files/eastern_cape/shape_files/eastern_cape.shp\"\n",
    "roi = geemap.shp_to_ee(shp_path)\n",
    "\n",
    "# Load the nightlight image collection\n",
    "nightlights = ee.ImageCollection('NOAA/VIIRS/DNB/MONTHLY_V1/VCMSLCFG').filterDate('2021-06-01', '2021-08-31')\n",
    "\n",
    "# Filter the image collection to the region of interest\n",
    "nightlights_roi = nightlights.filterBounds(roi)\n",
    "\n",
    "# Calculate the median of the nightlight intensity within the date range and region\n",
    "median_nightlight = nightlights_roi.median()\n",
    "\n",
    "# Get the median value at the location of interest\n",
    "median_value = median_nightlight.reduceRegion(reducer=ee.Reducer.median(), geometry=loc, scale=20).get('avg_rad').getInfo()\n",
    "\n",
    "# Print the median value\n",
    "print('Median Nightlight Intensity:', median_value)\n",
    "\n",
    "# Create a folium map\n",
    "Map = geemap.Map()\n",
    "\n",
    "# Add the shapefile to the map\n",
    "Map.addLayer(roi, {}, 'Eastern Cape')\n",
    "\n",
    "# Add the nightlight image as a tile layer to the map (selecting a single band)\n",
    "Map.addLayer(median_nightlight.select('avg_rad'), {'min': 0, 'max': 100}, 'Nightlight Intensity')\n",
    "\n",
    "# Center the map on the location of interest\n",
    "Map.centerObject(loc, 6)\n",
    "\n",
    "# Display the map\n",
    "Map"
   ]
  },
  {
   "cell_type": "code",
   "execution_count": null,
   "metadata": {},
   "outputs": [],
   "source": []
  },
  {
   "cell_type": "code",
   "execution_count": null,
   "metadata": {},
   "outputs": [],
   "source": []
  },
  {
   "cell_type": "markdown",
   "metadata": {},
   "source": [
    "## Converting multiple satellite images to jpg"
   ]
  },
  {
   "cell_type": "code",
   "execution_count": 37,
   "metadata": {},
   "outputs": [
    {
     "name": "stdout",
     "output_type": "stream",
     "text": [
      "Conversion complete.\n"
     ]
    }
   ],
   "source": [
    "import numpy as np\n",
    "import tifffile as tiff\n",
    "from PIL import Image\n",
    "\n",
    "large_image_stack = tiff.imread(\"E:/sa_satellite_files/eastern_cape/image_tiles/new_sentinel_6_23_50.tif\")\n",
    "\n",
    "# Convert the image stack to a single image\n",
    "large_image = np.concatenate(large_image_stack, axis=0)\n",
    "\n",
    "# Normalize the image values to 0-255 range\n",
    "large_image = ((large_image - large_image.min()) / (large_image.max() - large_image.min())) * 255\n",
    "\n",
    "# Convert the image to uint8 data type\n",
    "large_image = large_image.astype(np.uint8)\n",
    "\n",
    "# Convert the image to PIL Image\n",
    "pil_image = Image.fromarray(large_image)\n",
    "\n",
    "# Convert to RGB color mode\n",
    "rgb_image = pil_image.convert(\"RGB\")\n",
    "\n",
    "# Save the RGB image as PNG\n",
    "save_path = \"E:/sa_satellite_files/eastern_cape/converted_images/converted_image.png\"\n",
    "rgb_image.save(save_path)\n",
    "\n",
    "print(\"Conversion complete.\")"
   ]
  },
  {
   "cell_type": "code",
   "execution_count": null,
   "metadata": {},
   "outputs": [],
   "source": [
    "from PIL import Image\n",
    "\n",
    "image_path = 'E:/sa_satellite_files/eastern_cape/image_tiles/new_sentinel_6_01_01.tif'\n",
    "\n",
    "try:\n",
    "    # Open and verify the image file\n",
    "    with Image.open(image_path) as image:\n",
    "        image.verify()\n",
    "        print(f\"The image file '{image_path}' is valid.\")\n",
    "except (IOError, SyntaxError) as e:\n",
    "    print(f\"Error: Could not open the image file '{image_path}' - {e}\")"
   ]
  },
  {
   "cell_type": "code",
   "execution_count": null,
   "metadata": {},
   "outputs": [],
   "source": []
  }
 ],
 "metadata": {
  "kernelspec": {
   "display_name": "Python 3",
   "language": "python",
   "name": "python3"
  },
  "language_info": {
   "codemirror_mode": {
    "name": "ipython",
    "version": 3
   },
   "file_extension": ".py",
   "mimetype": "text/x-python",
   "name": "python",
   "nbconvert_exporter": "python",
   "pygments_lexer": "ipython3",
   "version": "3.11.2"
  },
  "orig_nbformat": 4
 },
 "nbformat": 4,
 "nbformat_minor": 2
}
